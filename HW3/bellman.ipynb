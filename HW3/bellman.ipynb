{
 "cells": [
  {
   "cell_type": "code",
   "execution_count": 145,
   "metadata": {},
   "outputs": [],
   "source": [
    "def get_structure(name_txt_file):\n",
    "    \n",
    "    #initialize the dict\n",
    "    bellman_final = {}\n",
    "    bellman_single = {}\n",
    "    \n",
    "    #parse the txt file\n",
    "    bellman = open(name_txt_file, \"r\").read().split()\n",
    "    adj = {}\n",
    "    costs = {}\n",
    "    for i in range(len(bellman)):\n",
    "        if i % 2 == 0:\n",
    "            adj_array = []\n",
    "            if eval(bellman[i + 1])!=None:\n",
    "                for j in range(1, len(bellman[i + 1]), 6):\n",
    "                    adj_array.append(eval(bellman[i + 1][j]))\n",
    "                    if bellman[i + 1][j + 2] == \"-\":\n",
    "                        costs[(int(bellman[i]), eval(bellman[i + 1][j]))] = int(bellman[i + 1][j + 2:j + 4])\n",
    "                    else:\n",
    "                        costs[(int(bellman[i]), eval(bellman[i + 1][j]))] = int(bellman[i + 1][j + 2])\n",
    "                adj[int(bellman[i])] = adj_array\n",
    "            else:\n",
    "                bellman_final[i] = {}    \n",
    "\n",
    "    keys = set()\n",
    "    for i in range(len(costs.keys())):\n",
    "        keys.add(costs.keys()[i][0])\n",
    "\n",
    "    for key in keys:\n",
    "\n",
    "        for source, destination in costs.keys():  \n",
    "            if source == key:\n",
    "                bellman_single[destination] = costs[source, destination]\n",
    "\n",
    "        bellman_final[key] = bellman_single\n",
    "        bellman_single = {}\n",
    "        \n",
    "    return bellman_final"
   ]
  },
  {
   "cell_type": "code",
   "execution_count": 142,
   "metadata": {},
   "outputs": [
    {
     "data": {
      "text/plain": [
       "{1: {2: 4, 3: 4},\n",
       " 2: {},\n",
       " 3: {5: 4, 6: -2},\n",
       " 4: {3: 2},\n",
       " 5: {7: -2},\n",
       " 6: {5: 3},\n",
       " 7: {6: 2, 8: 2},\n",
       " 8: {5: -2}}"
      ]
     },
     "execution_count": 142,
     "metadata": {},
     "output_type": "execute_result"
    }
   ],
   "source": [
    "#the final dict has the structure:\n",
    "get_structure(\"bellman.txt\")"
   ]
  },
  {
   "cell_type": "code",
   "execution_count": 148,
   "metadata": {},
   "outputs": [
    {
     "name": "stdout",
     "output_type": "stream",
     "text": [
      "Does the map have negative cycle? True\n",
      "The negative cycle path is: [5, 8, 7]\n"
     ]
    }
   ],
   "source": [
    "def find_negative_circles(dictionary, source):\n",
    "    \n",
    "    #start from newly added node 0\n",
    "    source_node = {}\n",
    "    for i in range(1, len(dictionary)+1):\n",
    "        source_node[i] = 0\n",
    "    dictionary[0] = source_node\n",
    "    \n",
    "    #initialize two dict, minimal distance and previous node\n",
    "    dist = {}\n",
    "    prev = {}\n",
    "    \n",
    "    #initialize all vertices as minimal distance is infinite and previous node is None\n",
    "    for all_v in dictionary:\n",
    "        prev[all_v] = None\n",
    "        dist[all_v] = float('Inf')\n",
    "    \n",
    "    #start from source, source's dist is 0\n",
    "    dist[source] = 0\n",
    "    \n",
    "    #run through the map with N-1 times, with N equals to the number of vertices\n",
    "    for i in range(len(dictionary)-1):\n",
    "        \n",
    "        #go through all the vertices\n",
    "        for curr_v in dictionary:\n",
    "            \n",
    "            #same as Dijkstra, if find a shorter path, update the dist dict\n",
    "            for adj_v in dictionary[curr_v]:\n",
    "                if dist[adj_v] > dist[curr_v] + dictionary[curr_v][adj_v]:\n",
    "                    dist[adj_v] = dist[curr_v] + dictionary[curr_v][adj_v]\n",
    "                    prev[adj_v] = curr_v\n",
    "    \n",
    "    #add a flag to check whether the map has negative cycle. If it has, the #N loop can still decrease the weight\n",
    "    negative_cycle_flag = False\n",
    "    \n",
    "    #check if the #N can still decrease the cost\n",
    "    for curr_v in dictionary:\n",
    "        for adj_v in dictionary[curr_v]:\n",
    "            if dist[adj_v] > dist[curr_v] + dictionary[curr_v][adj_v]:\n",
    "                negative_cycle_flag = True\n",
    "                \n",
    "                #if find a negative cycle, trace back to the problem node and make the cycle path\n",
    "                start = curr_v\n",
    "                path = [start]\n",
    "                while prev[start] != curr_v:\n",
    "                    path.append(prev[start])\n",
    "                    start = prev[start]\n",
    "    \n",
    "    return negative_cycle_flag, path\n",
    "\n",
    "dictionary = get_structure(\"bellman.txt\")\n",
    "source = 0\n",
    "negative_cycle_flag, path = find_negative_circles(dictionary, source)\n",
    "\n",
    "print(\"Does the map have negative cycle? \" + str(negative_cycle_flag))\n",
    "print(\"The negative cycle path is: \" + str(path))"
   ]
  },
  {
   "cell_type": "code",
   "execution_count": null,
   "metadata": {
    "collapsed": true
   },
   "outputs": [],
   "source": []
  }
 ],
 "metadata": {
  "kernelspec": {
   "display_name": "Python 2",
   "language": "python",
   "name": "python2"
  },
  "language_info": {
   "codemirror_mode": {
    "name": "ipython",
    "version": 2
   },
   "file_extension": ".py",
   "mimetype": "text/x-python",
   "name": "python",
   "nbconvert_exporter": "python",
   "pygments_lexer": "ipython2",
   "version": "2.7.14"
  }
 },
 "nbformat": 4,
 "nbformat_minor": 2
}
