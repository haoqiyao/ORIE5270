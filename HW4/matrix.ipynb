{
 "cells": [
  {
   "cell_type": "code",
   "execution_count": 1,
   "metadata": {},
   "outputs": [
    {
     "ename": "ImportError",
     "evalue": "No module named pyspark",
     "output_type": "error",
     "traceback": [
      "\u001b[0;31m---------------------------------------------------------------------------\u001b[0m",
      "\u001b[0;31mImportError\u001b[0m                               Traceback (most recent call last)",
      "\u001b[0;32m<ipython-input-1-9389474dacda>\u001b[0m in \u001b[0;36m<module>\u001b[0;34m()\u001b[0m\n\u001b[0;32m----> 1\u001b[0;31m \u001b[0;32mfrom\u001b[0m \u001b[0mpyspark\u001b[0m \u001b[0;32mimport\u001b[0m \u001b[0mSparkConf\u001b[0m\u001b[0;34m,\u001b[0m \u001b[0mSparkContext\u001b[0m\u001b[0;34m\u001b[0m\u001b[0m\n\u001b[0m\u001b[1;32m      2\u001b[0m \u001b[0;34m\u001b[0m\u001b[0m\n\u001b[1;32m      3\u001b[0m \u001b[0;34m\u001b[0m\u001b[0m\n\u001b[1;32m      4\u001b[0m \u001b[0;32mdef\u001b[0m \u001b[0mmultiplication\u001b[0m\u001b[0;34m(\u001b[0m\u001b[0ma\u001b[0m\u001b[0;34m,\u001b[0m \u001b[0mb\u001b[0m\u001b[0;34m)\u001b[0m\u001b[0;34m:\u001b[0m\u001b[0;34m\u001b[0m\u001b[0m\n\u001b[1;32m      5\u001b[0m \u001b[0;34m\u001b[0m\u001b[0m\n",
      "\u001b[0;31mImportError\u001b[0m: No module named pyspark"
     ]
    }
   ],
   "source": [
    "from pyspark import SparkConf, SparkContext\n",
    "\n",
    "\n",
    "def multiplication(a, b):\n",
    "\n",
    "    conf = SparkConf()\n",
    "    sc = SparkContext(conf=conf)\n",
    "\n",
    "    d_a = sc.textFile(a)\n",
    "    d_b = sc.textFile(b)\n",
    "\n",
    "    a_res = d_a.map(lambda l: [float(i) for i in l.split(',')])\n",
    "    b_res = d_b.map(lambda l: [float(i) for i in l.split(',')])\n",
    "    a = a.zipWithIndex().map(lambda l: (l[1], [(col, item) for col, item in enumerate(l[0])])).flatMapValues(\n",
    "        lambda l: [i for i in l]).map(lambda l: (l[1][0], (l[0], l[1][1])))\n",
    "    #a = a.map(lambda l: (l[1], [(col, item) for col, item in enumerate(l[0])]))\n",
    "    b = b.zipWithIndex().map(lambda l: (l[1], l[0])).flatMapValues(lambda l: [i for i in l])\n",
    "    #b = b.map(lambda l: (l[1], l[0]))\n",
    "    #a = a.flatMapValues(lambda l: [i for i in l]).map(lambda l: (l[1][0], (l[0], l[1][1])))\n",
    "    #b = b.flatMapValues(lambda l: [i for i in l])\n",
    "\n",
    "    final = a.join(b)\n",
    "    final = final.map(lambda l: (l[1][0][0], l[1][0][1] * l[1][1]))\n",
    "    final = final.reduceByKey(lambda n1, n2: n1 + n2)\n",
    "\n",
    "    return final\n",
    "\n",
    "\n",
    "res = multiplication('a.txt', 'b.txt')\n",
    "print(res.collect())"
   ]
  },
  {
   "cell_type": "code",
   "execution_count": null,
   "metadata": {
    "collapsed": true
   },
   "outputs": [],
   "source": []
  }
 ],
 "metadata": {
  "kernelspec": {
   "display_name": "Python 2",
   "language": "python",
   "name": "python2"
  },
  "language_info": {
   "codemirror_mode": {
    "name": "ipython",
    "version": 2
   },
   "file_extension": ".py",
   "mimetype": "text/x-python",
   "name": "python",
   "nbconvert_exporter": "python",
   "pygments_lexer": "ipython2",
   "version": "2.7.14"
  }
 },
 "nbformat": 4,
 "nbformat_minor": 2
}
