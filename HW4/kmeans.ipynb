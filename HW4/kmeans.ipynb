{
 "cells": [
  {
   "cell_type": "code",
   "execution_count": null,
   "metadata": {
    "collapsed": true
   },
   "outputs": [],
   "source": [
    "\n",
    "\n",
    "\n",
    "\n",
    "\n",
    "def kmeans(data_file, centroids_file, max_iter=20):\n",
    "\n",
    "    data = sc.textFile(sys.argv[1]).map(\n",
    "        lambda line: np.array([float(x) for x in line.split(' ')])).cache()\n",
    "\n",
    "    centroids1 = sc.textFile(centroids_file).map(\n",
    "        lambda line: np.array([float(x) for x in line.split(' ')])).collect()\n",
    "\n"
   ]
  }
 ],
 "metadata": {
  "kernelspec": {
   "display_name": "Python 2",
   "language": "python",
   "name": "python2"
  },
  "language_info": {
   "codemirror_mode": {
    "name": "ipython",
    "version": 2
   },
   "file_extension": ".py",
   "mimetype": "text/x-python",
   "name": "python",
   "nbconvert_exporter": "python",
   "pygments_lexer": "ipython2",
   "version": "2.7.14"
  }
 },
 "nbformat": 4,
 "nbformat_minor": 2
}
